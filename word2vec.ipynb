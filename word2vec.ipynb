{
 "cells": [
  {
   "cell_type": "code",
   "execution_count": 3,
   "metadata": {},
   "outputs": [],
   "source": [
    "%load_ext autoreload\n",
    "import sys\n",
    "import os\n",
    "import joblib\n",
    "from word2vec_util import TextCorpusProcess\n"
   ]
  },
  {
   "cell_type": "code",
   "execution_count": 4,
   "metadata": {},
   "outputs": [],
   "source": [
    "data_path = os.getcwd() + '/data/images/' + 'img_prepared'\n",
    "train_pklname = data_path + '_train.pkl'\n",
    "train_data = joblib.load(train_pklname)\n",
    "text_data = train_data['desc']"
   ]
  },
  {
   "cell_type": "code",
   "execution_count": 5,
   "metadata": {},
   "outputs": [
    {
     "name": "stdout",
     "output_type": "stream",
     "text": [
      "The autoreload extension is already loaded. To reload it, use:\n",
      "  %reload_ext autoreload\n"
     ]
    }
   ],
   "source": [
    "%load_ext autoreload\n",
    "punct_dict = {\n",
    "    '.': '<PERIOD>',\n",
    "    ',': '<COMMA>',\n",
    "    '\"': '<QUOTATION_MARK>',\n",
    "    ';': '<SEMICOLON>',\n",
    "    '!': '<EXCLAMATION_MARK>',\n",
    "    '?': '<QUESTION_MARK>',\n",
    "    '(': '<QUESTION_MARK>',\n",
    "    ')': '<RIGHT_PAREN>',\n",
    "    '--': '<HYPHENS>',\n",
    "    '-': '<HYPHEN>',\n",
    "    ':': '<COLON>',\n",
    "    '|': '<PIPE>'\n",
    "}\n",
    "\n",
    "textCorpus = TextCorpusProcess(punct_dict=punct_dict, prod_descs=text_data)"
   ]
  },
  {
   "cell_type": "code",
   "execution_count": 6,
   "metadata": {},
   "outputs": [],
   "source": [
    "import torch\n",
    "import numpy as np\n",
    "import torch.optim as optim\n",
    "from torch.utils.tensorboard import SummaryWriter\n",
    "import copy\n",
    "from skip_gram_neg import SkipGramNeg, NegativeSamplingLoss\n",
    "from word2vec_util import Word2VecDataloader"
   ]
  },
  {
   "cell_type": "code",
   "execution_count": 2,
   "metadata": {},
   "outputs": [
    {
     "name": "stdout",
     "output_type": "stream",
     "text": [
      "The tensorboard extension is already loaded. To reload it, use:\n",
      "  %reload_ext tensorboard\n"
     ]
    },
    {
     "data": {
      "text/plain": [
       "Reusing TensorBoard on port 6007 (pid 8635), started 0:00:02 ago. (Use '!kill 8635' to kill it.)"
      ]
     },
     "metadata": {},
     "output_type": "display_data"
    },
    {
     "data": {
      "text/html": [
       "\n",
       "      <iframe id=\"tensorboard-frame-975c42bd1e8c84bf\" width=\"100%\" height=\"800\" frameborder=\"0\">\n",
       "      </iframe>\n",
       "      <script>\n",
       "        (function() {\n",
       "          const frame = document.getElementById(\"tensorboard-frame-975c42bd1e8c84bf\");\n",
       "          const url = new URL(\"http://localhost\");\n",
       "          const port = 6007;\n",
       "          if (port) {\n",
       "            url.port = port;\n",
       "          }\n",
       "          frame.src = url;\n",
       "        })();\n",
       "      </script>\n",
       "    "
      ],
      "text/plain": [
       "<IPython.core.display.HTML object>"
      ]
     },
     "metadata": {},
     "output_type": "display_data"
    }
   ],
   "source": [
    "%load_ext tensorboard\n",
    "current_path = os.getcwd()\n",
    "log_dir_path = current_path + '/runs/'\n",
    "save_dir_path = current_path + '/save/'\n",
    "try:\n",
    "    os.mkdir(log_dir_path)\n",
    "except:\n",
    "    pass\n",
    "try:\n",
    "    os.mkdir(save_dir_path)\n",
    "except:\n",
    "    pass\n",
    "%tensorboard --logdir '{log_dir_path}'"
   ]
  },
  {
   "cell_type": "code",
   "execution_count": 7,
   "metadata": {},
   "outputs": [],
   "source": [
    "device = 'cuda' if torch.cuda.is_available() else 'cpu'\n",
    "writer = SummaryWriter(log_dir=log_dir_path)\n",
    "# get the noise distribution for negative sampling\n",
    "word_freqs = np.array(sorted(textCorpus.freq_dict.values(), reverse=True))\n",
    "unigram_dist = word_freqs/word_freqs.sum()\n",
    "noise_dist = torch.from_numpy(\n",
    "    unigram_dist**(0.75)/np.sum(unigram_dist**(0.75)))\n",
    "\n",
    "# hyperparams\n",
    "EMBED_DIM = 128\n",
    "BATCH_SIZE = 16\n",
    "NEG_SAMPLE_SIZE = 5\n",
    "WINDOW_SIZE = 3\n",
    "EPOCHS = 20\n",
    "LR = 0.001\n",
    "\n",
    "# instantiating the model\n",
    "model = SkipGramNeg(\n",
    "    vocab_size=textCorpus.vocab_size,\n",
    "    embed_dim=EMBED_DIM,\n",
    "    noise_dist=noise_dist,\n",
    "    neg_sample_size=NEG_SAMPLE_SIZE,\n",
    "    batch_size=BATCH_SIZE,\n",
    ")\n",
    "model = model.to(device)\n",
    "\n",
    "# instantiating the dataloader\n",
    "dataloader = Word2VecDataloader(\n",
    "    prod_word_idx_lists=textCorpus.prod_word_idx_lists,\n",
    "    batch_size=BATCH_SIZE,\n",
    "    window_size=WINDOW_SIZE,\n",
    ")\n",
    "\n",
    "criterion = NegativeSamplingLoss()\n",
    "optimizer = optim.Adam(model.parameters(), lr=LR)\n",
    "\n",
    "epochs = EPOCHS\n",
    "# an arbitrary high value for best_epoch_loss\n",
    "best_epoch_loss = 100\n",
    "best_model_wts = copy.deepcopy(model.state_dict())\n",
    "for e in range(epochs):\n",
    "    batch_count = 0\n",
    "    running_loss = 0.0\n",
    "    # get input, target batches\n",
    "    for input_words, target_words in dataloader.generate_batch():\n",
    "        inputs = torch.LongTensor(input_words)\n",
    "        targets = torch.LongTensor(target_words)\n",
    "        inputs, targets = inputs.to(device), targets.to(device)\n",
    "\n",
    "        # input, outpt, and noise vectors\n",
    "        input_vectors = model.forward_input(inputs)\n",
    "        output_vectors = model.forward_output(targets)\n",
    "        noise_vectors = model.generate_neg_samples(inputs.shape[0], device=device)\n",
    "        # noise_vectors = noise_vectors.to(device)\n",
    "\n",
    "        # negative sampling loss\n",
    "        loss = criterion(input_vectors, output_vectors, noise_vectors)\n",
    "        running_loss += loss\n",
    "\n",
    "        optimizer.zero_grad()\n",
    "        loss.backward()\n",
    "        optimizer.step()\n",
    "        batch_count += 1\n",
    "    epoch_loss = running_loss / batch_count\n",
    "    print(f'Epoch {e} / {epochs}')\n",
    "    print(f'Epoch training loss: {epoch_loss}')\n",
    "    writer.add_scalar(f'Training loss', epoch_loss, e)\n",
    "    writer.flush()\n",
    "\n",
    "    # deep copy the model\n",
    "    if epoch_loss < best_epoch_loss:\n",
    "        best_epoch_loss = epoch_loss\n",
    "        best_model_wts = copy.deepcopy(model.state_dict())\n",
    "        torch.save(best_model_wts, save_dir_path + 'best_word2vec_ebedding_model.pt')\n"
   ]
  }
 ],
 "metadata": {
  "interpreter": {
   "hash": "d1a014fee8dab19e381f5c0a59544b00a460ed8d6f43556103265470604014b1"
  },
  "kernelspec": {
   "display_name": "Python 3.9.7 ('fb_marketplace')",
   "language": "python",
   "name": "python3"
  },
  "language_info": {
   "codemirror_mode": {
    "name": "ipython",
    "version": 3
   },
   "file_extension": ".py",
   "mimetype": "text/x-python",
   "name": "python",
   "nbconvert_exporter": "python",
   "pygments_lexer": "ipython3",
   "version": "3.9.7"
  },
  "orig_nbformat": 4
 },
 "nbformat": 4,
 "nbformat_minor": 2
}
