{
 "cells": [
  {
   "cell_type": "code",
   "execution_count": 1,
   "metadata": {},
   "outputs": [],
   "source": [
    "import pandas as pd\n",
    "from pandas_profiling import ProfileReport"
   ]
  },
  {
   "cell_type": "code",
   "execution_count": 2,
   "metadata": {},
   "outputs": [
    {
     "data": {
      "text/plain": [
       "<sqlalchemy.engine.base.Connection at 0x7f0b0935b2e0>"
      ]
     },
     "execution_count": 2,
     "metadata": {},
     "output_type": "execute_result"
    }
   ],
   "source": [
    "from sqlalchemy import create_engine, inspect\n",
    "rds_config = {'DATABASE_TYPE': 'postgresql',\n",
    "             'DBAPI': 'psycopg2',\n",
    "             'ENDPOINT': \"products.c8k7he1p0ynz.us-east-1.rds.amazonaws.com\",\n",
    "             'USER': 'postgres',\n",
    "             'PASSWORD': 'aicore2022!',\n",
    "             'PORT': 5432,\n",
    "             'DATABASE': 'postgres'}\n",
    "DATABASE_TYPE = rds_config['DATABASE_TYPE']\n",
    "DBAPI = rds_config['DBAPI']\n",
    "ENDPOINT = rds_config['ENDPOINT']\n",
    "USER = rds_config['USER']\n",
    "PASSWORD = rds_config['PASSWORD']\n",
    "PORT = rds_config['PORT']\n",
    "DATABASE = rds_config['DATABASE']\n",
    "rds_engine = create_engine(\n",
    "    f\"{DATABASE_TYPE}+{DBAPI}://{USER}:{PASSWORD}@{ENDPOINT}:{PORT}/{DATABASE}\")\n",
    "rds_engine.connect()\n"
   ]
  },
  {
   "cell_type": "code",
   "execution_count": 3,
   "metadata": {},
   "outputs": [],
   "source": [
    "products = pd.read_sql_table('products', rds_engine)"
   ]
  },
  {
   "cell_type": "code",
   "execution_count": 19,
   "metadata": {},
   "outputs": [
    {
     "name": "stdout",
     "output_type": "stream",
     "text": [
      "Help on class TrainTestSplitFBMarketData in module train_test_split:\n",
      "\n",
      "class TrainTestSplitFBMarketData(builtins.object)\n",
      " |  Methods defined here:\n",
      " |  \n",
      " |  train_test_split(df)\n",
      " |  \n",
      " |  ----------------------------------------------------------------------\n",
      " |  Data descriptors defined here:\n",
      " |  \n",
      " |  __dict__\n",
      " |      dictionary for instance variables (if defined)\n",
      " |  \n",
      " |  __weakref__\n",
      " |      list of weak references to the object (if defined)\n",
      "\n"
     ]
    },
    {
     "ename": "TypeError",
     "evalue": "TrainTestSplitFBMarketData() takes no arguments",
     "output_type": "error",
     "traceback": [
      "\u001b[0;31m---------------------------------------------------------------------------\u001b[0m",
      "\u001b[0;31mTypeError\u001b[0m                                 Traceback (most recent call last)",
      "\u001b[1;32m/home/shbz/Dropbox/Workspace/Aicore/VSworkspace/fb_marketplace_reco/test.ipynb Cell 4'\u001b[0m in \u001b[0;36m<cell line: 3>\u001b[0;34m()\u001b[0m\n\u001b[1;32m      <a href='vscode-notebook-cell:/home/shbz/Dropbox/Workspace/Aicore/VSworkspace/fb_marketplace_reco/test.ipynb#ch0000013?line=0'>1</a>\u001b[0m \u001b[39mfrom\u001b[39;00m \u001b[39mtrain_test_split\u001b[39;00m \u001b[39mimport\u001b[39;00m TrainTestSplitFBMarketData\n\u001b[1;32m      <a href='vscode-notebook-cell:/home/shbz/Dropbox/Workspace/Aicore/VSworkspace/fb_marketplace_reco/test.ipynb#ch0000013?line=1'>2</a>\u001b[0m help(TrainTestSplitFBMarketData)\n\u001b[0;32m----> <a href='vscode-notebook-cell:/home/shbz/Dropbox/Workspace/Aicore/VSworkspace/fb_marketplace_reco/test.ipynb#ch0000013?line=2'>3</a>\u001b[0m data_splitter \u001b[39m=\u001b[39m TrainTestSplitFBMarketData(cat_drop\u001b[39m=\u001b[39;49m\u001b[39m3\u001b[39;49m)\n\u001b[1;32m      <a href='vscode-notebook-cell:/home/shbz/Dropbox/Workspace/Aicore/VSworkspace/fb_marketplace_reco/test.ipynb#ch0000013?line=3'>4</a>\u001b[0m train_data, test_date \u001b[39m=\u001b[39m data_splitter\u001b[39m.\u001b[39mtrain_test_split(products)\n",
      "\u001b[0;31mTypeError\u001b[0m: TrainTestSplitFBMarketData() takes no arguments"
     ]
    }
   ],
   "source": [
    "from train_test_split import TrainTestSplitFBMarketData\n",
    "help(TrainTestSplitFBMarketData)\n",
    "data_splitter = TrainTestSplitFBMarketData(cat_drop=3)\n",
    "train_data, test_date = data_splitter.train_test_split(products)\n"
   ]
  },
  {
   "cell_type": "code",
   "execution_count": 32,
   "metadata": {},
   "outputs": [
    {
     "name": "stdout",
     "output_type": "stream",
     "text": [
      "<class 'pandas.core.frame.DataFrame'>\n",
      "RangeIndex: 8091 entries, 0 to 8090\n",
      "Data columns (total 8 columns):\n",
      " #   Column               Non-Null Count  Dtype         \n",
      "---  ------               --------------  -----         \n",
      " 0   id                   8091 non-null   object        \n",
      " 1   product_name         8091 non-null   object        \n",
      " 2   category             8091 non-null   object        \n",
      " 3   product_description  8091 non-null   object        \n",
      " 4   price                8091 non-null   object        \n",
      " 5   location             8091 non-null   object        \n",
      " 6   page_id              8091 non-null   int64         \n",
      " 7   create_time          8091 non-null   datetime64[ns]\n",
      "dtypes: datetime64[ns](1), int64(1), object(6)\n",
      "memory usage: 505.8+ KB\n"
     ]
    }
   ],
   "source": [
    "products.info()\n",
    "# products.describe(include='all')"
   ]
  },
  {
   "cell_type": "code",
   "execution_count": 5,
   "metadata": {},
   "outputs": [],
   "source": [
    "import missingno as mss\n",
    "%matplotlib inline"
   ]
  },
  {
   "cell_type": "code",
   "execution_count": 11,
   "metadata": {},
   "outputs": [
    {
     "name": "stdout",
     "output_type": "stream",
     "text": [
      "<class 'pandas.core.frame.DataFrame'>\n",
      "Int64Index: 7156 entries, 1 to 8090\n",
      "Data columns (total 5 columns):\n",
      " #   Column               Non-Null Count  Dtype  \n",
      "---  ------               --------------  -----  \n",
      " 0   product_name         7156 non-null   object \n",
      " 1   category             7156 non-null   object \n",
      " 2   product_description  7156 non-null   object \n",
      " 3   price                7156 non-null   float64\n",
      " 4   location             7156 non-null   object \n",
      "dtypes: float64(1), object(4)\n",
      "memory usage: 335.4+ KB\n",
      "<class 'pandas.core.frame.DataFrame'>\n",
      "Int64Index: 7156 entries, 1 to 8090\n",
      "Data columns (total 5 columns):\n",
      " #   Column               Non-Null Count  Dtype  \n",
      "---  ------               --------------  -----  \n",
      " 0   product_name         7156 non-null   object \n",
      " 1   category             7156 non-null   object \n",
      " 2   product_description  7156 non-null   object \n",
      " 3   price                7156 non-null   float64\n",
      " 4   location             7156 non-null   object \n",
      "dtypes: float64(1), object(4)\n",
      "memory usage: 335.4+ KB\n"
     ]
    },
    {
     "data": {
      "text/html": [
       "<div>\n",
       "<style scoped>\n",
       "    .dataframe tbody tr th:only-of-type {\n",
       "        vertical-align: middle;\n",
       "    }\n",
       "\n",
       "    .dataframe tbody tr th {\n",
       "        vertical-align: top;\n",
       "    }\n",
       "\n",
       "    .dataframe thead th {\n",
       "        text-align: right;\n",
       "    }\n",
       "</style>\n",
       "<table border=\"1\" class=\"dataframe\">\n",
       "  <thead>\n",
       "    <tr style=\"text-align: right;\">\n",
       "      <th></th>\n",
       "      <th>product_name</th>\n",
       "      <th>product_description</th>\n",
       "      <th>price</th>\n",
       "      <th>category_0</th>\n",
       "      <th>category_1</th>\n",
       "      <th>location_0</th>\n",
       "      <th>location_1</th>\n",
       "    </tr>\n",
       "  </thead>\n",
       "  <tbody>\n",
       "    <tr>\n",
       "      <th>1</th>\n",
       "      <td>Mirror wall art | in Wokingham, Berkshire | Gu...</td>\n",
       "      <td>Mirror wall art. Posted by Nisha in Dining, Li...</td>\n",
       "      <td>5.0</td>\n",
       "      <td>Home &amp; Garden</td>\n",
       "      <td>Dining, Living Room Furniture</td>\n",
       "      <td>Berkshire</td>\n",
       "      <td>Wokingham</td>\n",
       "    </tr>\n",
       "    <tr>\n",
       "      <th>2</th>\n",
       "      <td>Stainless Steel Food Steamer | in Inverness, H...</td>\n",
       "      <td>Morphy Richard’s (model no 48755)Stainless ste...</td>\n",
       "      <td>20.0</td>\n",
       "      <td>Home &amp; Garden</td>\n",
       "      <td>Other Household Goods</td>\n",
       "      <td>Highland</td>\n",
       "      <td>Inverness</td>\n",
       "    </tr>\n",
       "    <tr>\n",
       "      <th>3</th>\n",
       "      <td>Sun loungers | in Skegness, Lincolnshire | Gum...</td>\n",
       "      <td>I have 2 of these - collection only as I don’t...</td>\n",
       "      <td>20.0</td>\n",
       "      <td>Home &amp; Garden</td>\n",
       "      <td>Garden &amp; Patio</td>\n",
       "      <td>Lincolnshire</td>\n",
       "      <td>Skegness</td>\n",
       "    </tr>\n",
       "    <tr>\n",
       "      <th>4</th>\n",
       "      <td>Coffee side table from Ammunition ammo box hai...</td>\n",
       "      <td>Great reclaimed army ammunition box used as co...</td>\n",
       "      <td>115.0</td>\n",
       "      <td>Home &amp; Garden</td>\n",
       "      <td>Dining, Living Room Furniture</td>\n",
       "      <td>Somerset</td>\n",
       "      <td>Radstock</td>\n",
       "    </tr>\n",
       "    <tr>\n",
       "      <th>5</th>\n",
       "      <td>Modern Shannon Sofa for sale at low cost | in ...</td>\n",
       "      <td>New Design Shannon Corner sofa  5 Seater Avail...</td>\n",
       "      <td>450.0</td>\n",
       "      <td>Home &amp; Garden</td>\n",
       "      <td>Dining, Living Room Furniture</td>\n",
       "      <td>Manchester</td>\n",
       "      <td>Delph</td>\n",
       "    </tr>\n",
       "    <tr>\n",
       "      <th>6</th>\n",
       "      <td>Spotlights | in Newent, Gloucestershire | Gumtree</td>\n",
       "      <td>New in box not needed Spotlights . Posted by s...</td>\n",
       "      <td>9.0</td>\n",
       "      <td>Home &amp; Garden</td>\n",
       "      <td>Other Household Goods</td>\n",
       "      <td>Gloucestershire</td>\n",
       "      <td>Newent</td>\n",
       "    </tr>\n",
       "    <tr>\n",
       "      <th>7</th>\n",
       "      <td>💥💥White Wardrobe💥💥Brand new Wardrobe For sale ...</td>\n",
       "      <td>🌈🌈Call Dustin 0208-0049437\\r🌈🌈Same Day Or any...</td>\n",
       "      <td>419.0</td>\n",
       "      <td>Home &amp; Garden</td>\n",
       "      <td>Beds &amp; Bedroom Furniture</td>\n",
       "      <td>West Yorkshire</td>\n",
       "      <td>Huddersfield</td>\n",
       "    </tr>\n",
       "    <tr>\n",
       "      <th>8</th>\n",
       "      <td>Letter cage | in Newent, Gloucestershire | Gum...</td>\n",
       "      <td>Selling for family member brand new too big fo...</td>\n",
       "      <td>10.0</td>\n",
       "      <td>Home &amp; Garden</td>\n",
       "      <td>Other Household Goods</td>\n",
       "      <td>Gloucestershire</td>\n",
       "      <td>Newent</td>\n",
       "    </tr>\n",
       "    <tr>\n",
       "      <th>9</th>\n",
       "      <td>Double Pine Bed Frame | in Lytham St Annes, La...</td>\n",
       "      <td>Double Pine bed frame good condition. Reasonab...</td>\n",
       "      <td>50.0</td>\n",
       "      <td>Home &amp; Garden</td>\n",
       "      <td>Beds &amp; Bedroom Furniture</td>\n",
       "      <td>Lancashire</td>\n",
       "      <td>Lytham St Annes</td>\n",
       "    </tr>\n",
       "    <tr>\n",
       "      <th>10</th>\n",
       "      <td>Solid pine dining table and chairs | in West K...</td>\n",
       "      <td>Distressed solid pine table and 4 chairs In ex...</td>\n",
       "      <td>200.0</td>\n",
       "      <td>Home &amp; Garden</td>\n",
       "      <td>Dining, Living Room Furniture</td>\n",
       "      <td>North Ayrshire</td>\n",
       "      <td>West Kilbride</td>\n",
       "    </tr>\n",
       "    <tr>\n",
       "      <th>11</th>\n",
       "      <td>Vortex plush velvet corner or 3+2 sofa avialbl...</td>\n",
       "      <td>corner Dimension:Width is 212cm x 164cmHeight ...</td>\n",
       "      <td>449.0</td>\n",
       "      <td>Home &amp; Garden</td>\n",
       "      <td>Dining, Living Room Furniture</td>\n",
       "      <td>Manchester</td>\n",
       "      <td>Wigan</td>\n",
       "    </tr>\n",
       "    <tr>\n",
       "      <th>14</th>\n",
       "      <td>Storage unit | in Midway, Derbyshire | Gumtree</td>\n",
       "      <td>Storage unit book shelf please see the photos ...</td>\n",
       "      <td>15.0</td>\n",
       "      <td>Home &amp; Garden</td>\n",
       "      <td>Other Household Goods</td>\n",
       "      <td>Derbyshire</td>\n",
       "      <td>Midway</td>\n",
       "    </tr>\n",
       "    <tr>\n",
       "      <th>15</th>\n",
       "      <td>King Size Pine Bedframe | in Hove, East Sussex...</td>\n",
       "      <td>Pine king sized Bedframe, originally from Ikea...</td>\n",
       "      <td>100.0</td>\n",
       "      <td>Home &amp; Garden</td>\n",
       "      <td>Beds &amp; Bedroom Furniture</td>\n",
       "      <td>East Sussex</td>\n",
       "      <td>Hove</td>\n",
       "    </tr>\n",
       "    <tr>\n",
       "      <th>16</th>\n",
       "      <td>Decorative black iron water pump and sump pump...</td>\n",
       "      <td>Working water pump and sump pump. Has been use...</td>\n",
       "      <td>100.0</td>\n",
       "      <td>Home &amp; Garden</td>\n",
       "      <td>Garden &amp; Patio</td>\n",
       "      <td>Leicestershire</td>\n",
       "      <td>Loughborough</td>\n",
       "    </tr>\n",
       "    <tr>\n",
       "      <th>17</th>\n",
       "      <td>Marquee &amp; Gazebo Hire | in Downpatrick, County...</td>\n",
       "      <td>Ranges of sizes available Long and short term ...</td>\n",
       "      <td>10.0</td>\n",
       "      <td>Home &amp; Garden</td>\n",
       "      <td>Garden &amp; Patio</td>\n",
       "      <td>County Down</td>\n",
       "      <td>Downpatrick</td>\n",
       "    </tr>\n",
       "    <tr>\n",
       "      <th>18</th>\n",
       "      <td>SOLD. Ceiling light | in Melrose, Scottish Bor...</td>\n",
       "      <td>Pewter ceiling light Ceiling light. Posted by ...</td>\n",
       "      <td>40.0</td>\n",
       "      <td>Home &amp; Garden</td>\n",
       "      <td>Dining, Living Room Furniture</td>\n",
       "      <td>Scottish Borders</td>\n",
       "      <td>Melrose</td>\n",
       "    </tr>\n",
       "    <tr>\n",
       "      <th>19</th>\n",
       "      <td>QUALITY***CALACATTA***MARBLE***CARRARA***WHITE...</td>\n",
       "      <td>1) Top Quality Granite &amp; Quartz kitchen  Workt...</td>\n",
       "      <td>330.0</td>\n",
       "      <td>Home &amp; Garden</td>\n",
       "      <td>Kitchenware &amp; Accessories</td>\n",
       "      <td>London</td>\n",
       "      <td>Ealing Broadway</td>\n",
       "    </tr>\n",
       "    <tr>\n",
       "      <th>20</th>\n",
       "      <td>Beige Lamp | in Musselburgh, East Lothian | Gu...</td>\n",
       "      <td>Beautiful tall beige lamp bought from next. Gl...</td>\n",
       "      <td>25.0</td>\n",
       "      <td>Home &amp; Garden</td>\n",
       "      <td>Dining, Living Room Furniture</td>\n",
       "      <td>East Lothian</td>\n",
       "      <td>Musselburgh</td>\n",
       "    </tr>\n",
       "    <tr>\n",
       "      <th>21</th>\n",
       "      <td>SOLD: Super King bed with storage | in Quedgel...</td>\n",
       "      <td>Super King bed in excellent condition. No mark...</td>\n",
       "      <td>100.0</td>\n",
       "      <td>Home &amp; Garden</td>\n",
       "      <td>Beds &amp; Bedroom Furniture</td>\n",
       "      <td>Gloucestershire</td>\n",
       "      <td>Quedgeley</td>\n",
       "    </tr>\n",
       "    <tr>\n",
       "      <th>22</th>\n",
       "      <td>Bathroom cabinet | in Whiteinch, Glasgow | Gum...</td>\n",
       "      <td>Cabinet has been upcycled from old dark wood c...</td>\n",
       "      <td>100.0</td>\n",
       "      <td>Home &amp; Garden</td>\n",
       "      <td>Dining, Living Room Furniture</td>\n",
       "      <td>Glasgow</td>\n",
       "      <td>Whiteinch</td>\n",
       "    </tr>\n",
       "  </tbody>\n",
       "</table>\n",
       "</div>"
      ],
      "text/plain": [
       "                                         product_name  \\\n",
       "1   Mirror wall art | in Wokingham, Berkshire | Gu...   \n",
       "2   Stainless Steel Food Steamer | in Inverness, H...   \n",
       "3   Sun loungers | in Skegness, Lincolnshire | Gum...   \n",
       "4   Coffee side table from Ammunition ammo box hai...   \n",
       "5   Modern Shannon Sofa for sale at low cost | in ...   \n",
       "6   Spotlights | in Newent, Gloucestershire | Gumtree   \n",
       "7   💥💥White Wardrobe💥💥Brand new Wardrobe For sale ...   \n",
       "8   Letter cage | in Newent, Gloucestershire | Gum...   \n",
       "9   Double Pine Bed Frame | in Lytham St Annes, La...   \n",
       "10  Solid pine dining table and chairs | in West K...   \n",
       "11  Vortex plush velvet corner or 3+2 sofa avialbl...   \n",
       "14     Storage unit | in Midway, Derbyshire | Gumtree   \n",
       "15  King Size Pine Bedframe | in Hove, East Sussex...   \n",
       "16  Decorative black iron water pump and sump pump...   \n",
       "17  Marquee & Gazebo Hire | in Downpatrick, County...   \n",
       "18  SOLD. Ceiling light | in Melrose, Scottish Bor...   \n",
       "19  QUALITY***CALACATTA***MARBLE***CARRARA***WHITE...   \n",
       "20  Beige Lamp | in Musselburgh, East Lothian | Gu...   \n",
       "21  SOLD: Super King bed with storage | in Quedgel...   \n",
       "22  Bathroom cabinet | in Whiteinch, Glasgow | Gum...   \n",
       "\n",
       "                                  product_description  price     category_0  \\\n",
       "1   Mirror wall art. Posted by Nisha in Dining, Li...    5.0  Home & Garden   \n",
       "2   Morphy Richard’s (model no 48755)Stainless ste...   20.0  Home & Garden   \n",
       "3   I have 2 of these - collection only as I don’t...   20.0  Home & Garden   \n",
       "4   Great reclaimed army ammunition box used as co...  115.0  Home & Garden   \n",
       "5   New Design Shannon Corner sofa  5 Seater Avail...  450.0  Home & Garden   \n",
       "6   New in box not needed Spotlights . Posted by s...    9.0  Home & Garden   \n",
       "7    🌈🌈Call Dustin 0208-0049437\\r🌈🌈Same Day Or any...  419.0  Home & Garden   \n",
       "8   Selling for family member brand new too big fo...   10.0  Home & Garden   \n",
       "9   Double Pine bed frame good condition. Reasonab...   50.0  Home & Garden   \n",
       "10  Distressed solid pine table and 4 chairs In ex...  200.0  Home & Garden   \n",
       "11  corner Dimension:Width is 212cm x 164cmHeight ...  449.0  Home & Garden   \n",
       "14  Storage unit book shelf please see the photos ...   15.0  Home & Garden   \n",
       "15  Pine king sized Bedframe, originally from Ikea...  100.0  Home & Garden   \n",
       "16  Working water pump and sump pump. Has been use...  100.0  Home & Garden   \n",
       "17  Ranges of sizes available Long and short term ...   10.0  Home & Garden   \n",
       "18  Pewter ceiling light Ceiling light. Posted by ...   40.0  Home & Garden   \n",
       "19  1) Top Quality Granite & Quartz kitchen  Workt...  330.0  Home & Garden   \n",
       "20  Beautiful tall beige lamp bought from next. Gl...   25.0  Home & Garden   \n",
       "21  Super King bed in excellent condition. No mark...  100.0  Home & Garden   \n",
       "22  Cabinet has been upcycled from old dark wood c...  100.0  Home & Garden   \n",
       "\n",
       "                       category_1        location_0       location_1  \n",
       "1   Dining, Living Room Furniture         Berkshire        Wokingham  \n",
       "2           Other Household Goods          Highland        Inverness  \n",
       "3                  Garden & Patio      Lincolnshire         Skegness  \n",
       "4   Dining, Living Room Furniture          Somerset         Radstock  \n",
       "5   Dining, Living Room Furniture        Manchester            Delph  \n",
       "6           Other Household Goods   Gloucestershire           Newent  \n",
       "7        Beds & Bedroom Furniture    West Yorkshire     Huddersfield  \n",
       "8           Other Household Goods   Gloucestershire           Newent  \n",
       "9        Beds & Bedroom Furniture        Lancashire  Lytham St Annes  \n",
       "10  Dining, Living Room Furniture    North Ayrshire    West Kilbride  \n",
       "11  Dining, Living Room Furniture        Manchester            Wigan  \n",
       "14          Other Household Goods        Derbyshire           Midway  \n",
       "15       Beds & Bedroom Furniture       East Sussex             Hove  \n",
       "16                 Garden & Patio    Leicestershire     Loughborough  \n",
       "17                 Garden & Patio       County Down      Downpatrick  \n",
       "18  Dining, Living Room Furniture  Scottish Borders          Melrose  \n",
       "19      Kitchenware & Accessories            London  Ealing Broadway  \n",
       "20  Dining, Living Room Furniture      East Lothian      Musselburgh  \n",
       "21       Beds & Bedroom Furniture   Gloucestershire        Quedgeley  \n",
       "22  Dining, Living Room Furniture           Glasgow        Whiteinch  "
      ]
     },
     "execution_count": 11,
     "metadata": {},
     "output_type": "execute_result"
    }
   ],
   "source": [
    "def split_string(text, sep):\n",
    "    if text is None:\n",
    "        return None\n",
    "    l = text.split(sep)\n",
    "    return [i.strip() for i in l]\n",
    "\n",
    "def split_by_slash(text):\n",
    "    return split_string(text, '/')\n",
    "\n",
    "def split_by_comma(text):\n",
    "    return split_string(text, ',')\n",
    "\n",
    "def pop_top_word(word_l):\n",
    "    if word_l:\n",
    "        return word_l.pop(0)\n",
    "    else: \n",
    "        return None\n",
    "\n",
    "\n",
    "def split_expand_col(df, col_name, sep_func, cat_drop=None, rev=False):\n",
    "    df_cat_list = df[col_name].apply(sep_func)\n",
    "    if rev:\n",
    "        df_cat_list = df_cat_list.apply(lambda x: x[::-1])\n",
    "    cat_num = max(df_cat_list.apply(len))\n",
    "    for i in range(cat_num):\n",
    "        df[f'{col_name}_{i}'] = df_cat_list.apply(pop_top_word)\n",
    "    drop_col = [col_name]\n",
    "    if cat_drop: \n",
    "        drop_col.extend(\n",
    "            [f'{col_name}_{cat_num - 1 - i}' for i in range(cat_drop)])\n",
    "    df.drop(columns=drop_col, inplace=True)\n",
    "    return df\n",
    "\n",
    "\n",
    "products_df = products.replace({'N/A': None})\n",
    "products_df['price'] = products_df['price'].str.replace('£', '')\n",
    "products_df['price'] = products_df['price'].str.replace(',', '')\n",
    "products_df['price'] = products_df['price'].astype('float')\n",
    "products_df.dropna(inplace=True)\n",
    "products_df.drop(columns=['id', 'page_id', 'create_time'], inplace=True)\n",
    "products_df.info()\n",
    "    \n",
    "products_df = products.replace({'N/A':None})\n",
    "products_df['price'] = products_df['price'].str.replace('£', '')\n",
    "products_df['price'] = products_df['price'].str.replace(',', '')\n",
    "products_df['price'] = products_df['price'].astype('float')\n",
    "products_df.dropna(inplace=True)\n",
    "products_df.drop(columns=['id', 'page_id', 'create_time'], inplace=True)\n",
    "products_df.info()\n",
    "\n",
    "products_df = split_expand_col(\n",
    "    products_df, 'category', split_by_slash, cat_drop=3)\n",
    "products_df = split_expand_col(\n",
    "    products_df, 'location', split_by_comma, cat_drop=0, rev=True)\n",
    "\n",
    "# # split the heirarchical categories into different columns\n",
    "# products_cat_df = products_df['category']\n",
    "# products_cat_list = products_cat_df.apply(split_by_slash)\n",
    "# cat_nums = products_cat_list.apply(len).value_counts()\n",
    "# for cat_num in range(max(cat_nums.index)):\n",
    "#     products_df[f'cat_{cat_num}'] = products_cat_list.apply(pop_top_word)\n",
    "# products_df.drop(columns=['category', 'cat_2', 'cat_3', 'cat_4'], inplace=True)\n",
    "\n",
    "# # split the location into different columns\n",
    "# products_loc_df = products_df['location']\n",
    "# products_loc_list = products_loc_df.apply(split_by_comma)\n",
    "# loc_nums = products_loc_list.apply(len).value_counts()\n",
    "# for loc_num in range(max(loc_nums.index)):\n",
    "#     products_df[f'loc_{loc_num}'] = products_loc_list.apply(pop_top_word)\n",
    "# products_df.drop(columns=['location', 'loc_1'], inplace=True)\n",
    "products_df.head(20)\n"
   ]
  },
  {
   "cell_type": "code",
   "execution_count": null,
   "metadata": {},
   "outputs": [],
   "source": [
    "l = [1, 2, 3]\n",
    "print(list.reverse(l))"
   ]
  },
  {
   "cell_type": "code",
   "execution_count": 13,
   "metadata": {},
   "outputs": [
    {
     "data": {
      "text/plain": [
       "1569"
      ]
     },
     "execution_count": 13,
     "metadata": {},
     "output_type": "execute_result"
    }
   ],
   "source": [
    "\n",
    "len(products_df['location_1'].unique())"
   ]
  },
  {
   "cell_type": "code",
   "execution_count": 10,
   "metadata": {},
   "outputs": [
    {
     "data": {
      "text/plain": [
       "13"
      ]
     },
     "execution_count": 10,
     "metadata": {},
     "output_type": "execute_result"
    }
   ],
   "source": [
    "len(products_df['category_0'].unique())\n"
   ]
  },
  {
   "cell_type": "code",
   "execution_count": 38,
   "metadata": {},
   "outputs": [
    {
     "data": {
      "text/plain": [
       "<AxesSubplot:>"
      ]
     },
     "execution_count": 38,
     "metadata": {},
     "output_type": "execute_result"
    },
    {
     "data": {
      "image/png": "[encoded data removed]",
      "text/plain": [
       "<Figure size 1800x720 with 2 Axes>"
      ]
     },
     "metadata": {
      "needs_background": "light"
     },
     "output_type": "display_data"
    }
   ],
   "source": [
    "mss.matrix(products_df)\n"
   ]
  },
  {
   "cell_type": "code",
   "execution_count": 41,
   "metadata": {},
   "outputs": [
    {
     "data": {
      "text/plain": [
       "101"
      ]
     },
     "execution_count": 41,
     "metadata": {},
     "output_type": "execute_result"
    }
   ],
   "source": [
    "len(products_df['location_0'].unique())\n"
   ]
  },
  {
   "cell_type": "code",
   "execution_count": 25,
   "metadata": {},
   "outputs": [
    {
     "data": {
      "text/plain": [
       "<AxesSubplot:>"
      ]
     },
     "execution_count": 25,
     "metadata": {},
     "output_type": "execute_result"
    },
    {
     "data": {
      "image/png": "[encoded data removed]",
      "text/plain": [
       "<Figure size 1800x720 with 2 Axes>"
      ]
     },
     "metadata": {
      "needs_background": "light"
     },
     "output_type": "display_data"
    }
   ],
   "source": [
    "# products_df['location'].head(20)\n",
    "products_df_sorted = products_df.sort_values(by=['category'])\n",
    "products_df_sorted['product_name'].tail(20)\n",
    "mss.matrix(products_df_sorted)"
   ]
  },
  {
   "cell_type": "code",
   "execution_count": null,
   "metadata": {},
   "outputs": [],
   "source": [
    "# ts = products_df['location'].dropna().apply(lambda x: x.split(', '))\n",
    "\n",
    "\n",
    "# products_df['city'] = products_df['location'].apply(lambda x: x.split(', ')[0] if x is not None else x)\n",
    "# products_df['region'] = products_df['location'].apply(lambda x: x.split(', ')[1] if x is not None and len(x.split(', ')) else x)\n",
    "\n"
   ]
  },
  {
   "cell_type": "code",
   "execution_count": null,
   "metadata": {},
   "outputs": [],
   "source": [
    "report = ProfileReport(products_df, title = \"Sample Report\")\n",
    "report"
   ]
  },
  {
   "cell_type": "code",
   "execution_count": 1,
   "metadata": {},
   "outputs": [],
   "source": [
    "from PIL import Image\n",
    "import os\n",
    "dir = os.getcwd() + \"/data/images/\"\n",
    "file = \"0a2d446d-f9ac-4715-992d-1bb30017e44d.jpg\"\n",
    "im = Image.open(dir+file)\n",
    "\n"
   ]
  },
  {
   "cell_type": "code",
   "execution_count": 2,
   "metadata": {},
   "outputs": [
    {
     "data": {
      "text/plain": [
       "'RGB'"
      ]
     },
     "execution_count": 2,
     "metadata": {},
     "output_type": "execute_result"
    }
   ],
   "source": [
    "im.mode\n",
    "# im.size\n",
    "# im.show()"
   ]
  },
  {
   "cell_type": "code",
   "execution_count": null,
   "metadata": {},
   "outputs": [],
   "source": [
    "import torch\n",
    "torch.cuda.is_available()\n"
   ]
  }
 ],
 "metadata": {
  "interpreter": {
   "hash": "d1a014fee8dab19e381f5c0a59544b00a460ed8d6f43556103265470604014b1"
  },
  "kernelspec": {
   "display_name": "Python 3.9.7 ('fb_marketplace')",
   "language": "python",
   "name": "python3"
  },
  "language_info": {
   "codemirror_mode": {
    "name": "ipython",
    "version": 3
   },
   "file_extension": ".py",
   "mimetype": "text/x-python",
   "name": "python",
   "nbconvert_exporter": "python",
   "pygments_lexer": "ipython3",
   "version": "3.9.7"
  },
  "orig_nbformat": 4
 },
 "nbformat": 4,
 "nbformat_minor": 2
}
