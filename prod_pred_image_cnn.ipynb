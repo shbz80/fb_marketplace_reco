{
 "cells": [
  {
   "cell_type": "code",
   "execution_count": 1,
   "metadata": {
    "execution": {
     "iopub.execute_input": "2022-06-14T20:40:52.537534Z",
     "iopub.status.busy": "2022-06-14T20:40:52.537203Z",
     "iopub.status.idle": "2022-06-14T20:40:55.222410Z",
     "shell.execute_reply": "2022-06-14T20:40:55.221578Z",
     "shell.execute_reply.started": "2022-06-14T20:40:52.537459Z"
    },
    "executionInfo": {
     "elapsed": 350,
     "status": "ok",
     "timestamp": 1653420161601,
     "user": {
      "displayName": "Shahbaz Khader",
      "userId": "06215895297564570107"
     },
     "user_tz": -120
    },
    "id": "TA_rzv14SIzh"
   },
   "outputs": [],
   "source": [
    "import numpy as np\n",
    "import pandas as pd\n",
    "from sklearn import preprocessing\n",
    "import os\n",
    "import joblib\n",
    "import torch\n",
    "import torch.nn as nn\n",
    "import torch.optim as optim\n",
    "from torch.optim import lr_scheduler\n",
    "from torchvision import models, transforms\n",
    "import time\n",
    "import copy\n",
    "import typing\n",
    "import matplotlib.pyplot as plt\n",
    "from torch.utils.tensorboard import SummaryWriter"
   ]
  },
  {
   "cell_type": "code",
   "execution_count": 2,
   "metadata": {},
   "outputs": [],
   "source": [
    "class ProdDataset(torch.utils.data.Dataset):\n",
    "    \"\"\" A dataset object for the image data.\n",
    "    Assumes the data has been preprocessed with prepare_image_data.py.\n",
    "    Expects image size (224, 224), zero padding, and RGB mode.\n",
    "     \"\"\"\n",
    "    def __init__(self, input, label, transform=None):\n",
    "        self.input = input\n",
    "        self.label = label\n",
    "        if transform:\n",
    "            self.transform = transform\n",
    "\n",
    "    def __getitem__(self, index):\n",
    "        input = self.input[index]\n",
    "        label = self.label[index]\n",
    "        if self.transform:\n",
    "            input = self.transform(input)\n",
    "        return input, label\n",
    "\n",
    "    def __len__(self):\n",
    "        return len(self.label)\n",
    "\n",
    "\n",
    "def imshow(inp, title=None):\n",
    "    \"\"\"Imshow for Tensor.\"\"\"\n",
    "    inp = inp.numpy().transpose((1, 2, 0))\n",
    "    mean = np.array([0.485, 0.456, 0.406])\n",
    "    std = np.array([0.229, 0.224, 0.225])\n",
    "    inp = std * inp + mean\n",
    "    inp = np.clip(inp, 0, 1)\n",
    "    plt.imshow(inp)\n",
    "    if title is not None:\n",
    "        plt.title(title)\n",
    "    plt.pause(0.001)\n"
   ]
  },
  {
   "cell_type": "code",
   "execution_count": 6,
   "metadata": {
    "colab": {
     "base_uri": "https://localhost:8080/"
    },
    "execution": {
     "iopub.execute_input": "2022-06-14T20:41:02.737602Z",
     "iopub.status.busy": "2022-06-14T20:41:02.737342Z",
     "iopub.status.idle": "2022-06-14T20:41:08.134896Z",
     "shell.execute_reply": "2022-06-14T20:41:08.134267Z",
     "shell.execute_reply.started": "2022-06-14T20:41:02.737577Z"
    },
    "executionInfo": {
     "elapsed": 21019,
     "status": "ok",
     "timestamp": 1653420018575,
     "user": {
      "displayName": "Shahbaz Khader",
      "userId": "06215895297564570107"
     },
     "user_tz": -120
    },
    "id": "-KHMCbtiSIzj",
    "outputId": "83cabdfe-cb8a-4396-fd9c-f854a7d279db"
   },
   "outputs": [
    {
     "name": "stderr",
     "output_type": "stream",
     "text": [
      "/tmp/ipykernel_108/4158045069.py:11: FutureWarning: The input object of type 'Image' is an array-like implementing one of the corresponding protocols (`__array__`, `__array_interface__` or `__array_struct__`); but not a sequence (or 0-D). In the future, this object will be coerced as if it was first converted using `np.array(obj)`. To retain the old behaviour, you have to either modify the type 'Image', or assign to an empty array created with `np.empty(correct_shape, dtype=object)`.\n",
      "  input_train = np.array(train_data['data'])\n",
      "/tmp/ipykernel_108/4158045069.py:11: VisibleDeprecationWarning: Creating an ndarray from ragged nested sequences (which is a list-or-tuple of lists-or-tuples-or ndarrays with different lengths or shapes) is deprecated. If you meant to do this, you must specify 'dtype=object' when creating the ndarray.\n",
      "  input_train = np.array(train_data['data'])\n",
      "/tmp/ipykernel_108/4158045069.py:16: FutureWarning: The input object of type 'Image' is an array-like implementing one of the corresponding protocols (`__array__`, `__array_interface__` or `__array_struct__`); but not a sequence (or 0-D). In the future, this object will be coerced as if it was first converted using `np.array(obj)`. To retain the old behaviour, you have to either modify the type 'Image', or assign to an empty array created with `np.empty(correct_shape, dtype=object)`.\n",
      "  input_val = np.array(val_data['data'])\n",
      "/tmp/ipykernel_108/4158045069.py:16: VisibleDeprecationWarning: Creating an ndarray from ragged nested sequences (which is a list-or-tuple of lists-or-tuples-or ndarrays with different lengths or shapes) is deprecated. If you meant to do this, you must specify 'dtype=object' when creating the ndarray.\n",
      "  input_val = np.array(val_data['data'])\n"
     ]
    }
   ],
   "source": [
    "# data_path = os.getcwd() + '/data/images/' + 'img_prepared'\n",
    "data_path = os.path.join('/notebooks/data/', 'img_prepared')\n",
    "\n",
    "# load the prepared data (prepare_image_data.py)\n",
    "train_pklname = data_path + '_train.pkl'\n",
    "val_pklname = data_path + '_val.pkl'\n",
    "train_data = joblib.load(train_pklname)\n",
    "val_data = joblib.load(val_pklname)\n",
    "\n",
    "# get train input data\n",
    "input_train = np.array(train_data['data'])\n",
    "# gest train target data\n",
    "label_train = np.array(train_data['label'])\n",
    "\n",
    "# get val input data\n",
    "input_val = np.array(val_data['data'])\n",
    "# gest val target data\n",
    "label_val = np.array(val_data['label'])\n",
    "\n",
    "# create ordinal encoded train target\n",
    "label_train = np.array(label_train).reshape(-1, 1)\n",
    "target_enc = preprocessing.OrdinalEncoder()\n",
    "target_enc.fit(label_train)\n",
    "target_train = target_enc.transform(label_train)\n",
    "target_train = target_train.reshape(-1)\n",
    "\n",
    "# create ordinal encoded val target\n",
    "label_val = np.array(label_val).reshape(-1, 1)\n",
    "target_val = target_enc.transform(label_val)\n",
    "target_val = target_val.reshape(-1)\n",
    "\n",
    "# a transform composition for training\n",
    "train_transform = transforms.Compose([\n",
    "    transforms.RandomRotation((90,90)),\n",
    "    transforms.RandomRotation((-90,-90)),\n",
    "    #transforms.RandomAutocontrast(p=0.3),\n",
    "    #transforms.RandomPerspective(p=0.3),\n",
    "    transforms.ToTensor(),\n",
    "    transforms.Normalize([0.485, 0.456, 0.406], [0.229, 0.224, 0.225])\n",
    "])\n",
    "\n",
    "# a transform composition for validation\n",
    "val_transform = transforms.Compose([\n",
    "    transforms.ToTensor(),\n",
    "    transforms.Normalize([0.485, 0.456, 0.406], [0.229, 0.224, 0.225])\n",
    "])\n",
    "\n",
    "# create dataset objects for the dataloader\n",
    "dataset_train = ProdDataset(input_train, target_train, train_transform)\n",
    "dataset_val = ProdDataset(input_val, target_val, val_transform)\n",
    "image_datasets = {'train': dataset_train, 'val': dataset_val}\n",
    "\n",
    "BATCH_SIZE = 8\n",
    "# create a dict of train and val dataloaders\n",
    "dataloaders = {x: torch.utils.data.DataLoader(image_datasets[x], batch_size=BATCH_SIZE,\n",
    "                                              shuffle=True, num_workers=4)\n",
    "               for x in ['train', 'val']}\n",
    "\n",
    "dataset_sizes = {x: len(image_datasets[x]) for x in ['train', 'val']}\n",
    "\n",
    "device = torch.device(\"cuda:0\" if torch.cuda.is_available() else \"cpu\")"
   ]
  },
  {
   "cell_type": "code",
   "execution_count": 23,
   "metadata": {
    "execution": {
     "iopub.execute_input": "2022-06-14T20:41:08.136480Z",
     "iopub.status.busy": "2022-06-14T20:41:08.136302Z",
     "iopub.status.idle": "2022-06-14T20:41:08.154349Z",
     "shell.execute_reply": "2022-06-14T20:41:08.152943Z",
     "shell.execute_reply.started": "2022-06-14T20:41:08.136457Z"
    },
    "executionInfo": {
     "elapsed": 198,
     "status": "ok",
     "timestamp": 1653420511023,
     "user": {
      "displayName": "Shahbaz Khader",
      "userId": "06215895297564570107"
     },
     "user_tz": -120
    },
    "id": "FsKNnZycSIzk"
   },
   "outputs": [],
   "source": [
    "def train_model(model, criterion, optimizer, scheduler, writer, num_epochs=50, save_path=None):\n",
    "    \"\"\"_summary_\n",
    "\n",
    "    Args:\n",
    "        model: the image classification model\n",
    "        criterion: loss function\n",
    "        optimizer:\n",
    "        scheduler:\n",
    "        writer: for tensorboard\n",
    "        num_epochs (int, optional): number of training epochs. Defaults to 50.\n",
    "        save_path (path, optional): path for saving the model.\n",
    "\n",
    "    Returns:\n",
    "        the best model (lowest val score)\n",
    "    \"\"\"\n",
    "    since = time.time()\n",
    "\n",
    "    best_model_wts = copy.deepcopy(model.state_dict())\n",
    "    best_acc = 0.0\n",
    "\n",
    "    for epoch in range(num_epochs):\n",
    "        print(f'Epoch {epoch}/{num_epochs - 1}')\n",
    "        print('-' * 10)\n",
    "\n",
    "        # Each epoch has a training and validation phase\n",
    "        for phase in ['train', 'val']:\n",
    "            if phase == 'train':\n",
    "                model.train()  # Set model to training mode\n",
    "            else:\n",
    "                model.eval()   # Set model to evaluate mode\n",
    "\n",
    "            running_loss = 0.0\n",
    "            running_corrects = 0\n",
    "\n",
    "            # Iterate over data.\n",
    "            for inputs, labels in dataloaders[phase]:\n",
    "                inputs = inputs.to(device)\n",
    "                labels = labels.type(torch.LongTensor)\n",
    "                labels = labels.to(device)\n",
    "\n",
    "                # zero the parameter gradients\n",
    "                optimizer.zero_grad()\n",
    "\n",
    "                # forward\n",
    "                # track history if only in train\n",
    "                with torch.set_grad_enabled(phase == 'train'):\n",
    "                    outputs = model(inputs)\n",
    "                    _, preds = torch.max(outputs, 1)\n",
    "                    loss = criterion(outputs, labels)\n",
    "\n",
    "                    # backward + optimize only if in training phase\n",
    "                    if phase == 'train':\n",
    "                        loss.backward()\n",
    "                        optimizer.step()\n",
    "\n",
    "                # statistics\n",
    "                running_loss += loss.item() * inputs.size(0)\n",
    "                running_corrects += torch.sum(preds == labels.data)\n",
    "            if phase == 'train':\n",
    "                scheduler.step()\n",
    "\n",
    "            epoch_loss = running_loss / dataset_sizes[phase]\n",
    "            epoch_acc = running_corrects.double() / dataset_sizes[phase]\n",
    "\n",
    "            print(f'{phase} Loss: {epoch_loss:.4f} Acc: {epoch_acc:.4f}')\n",
    "\n",
    "            writer.add_scalar(f'Loss/{phase}', epoch_loss, epoch)\n",
    "            writer.add_scalar(f'Accuracy/{phase}', epoch_acc, epoch)\n",
    "\n",
    "            # deep copy the model\n",
    "            if phase == 'val' and epoch_acc > best_acc:\n",
    "                best_acc = epoch_acc\n",
    "                best_model_wts = copy.deepcopy(model.state_dict())\n",
    "                print(save_path)\n",
    "                torch.save(best_model_wts, os.path.join(save_path, 'best_image_cnn_model.pt'))\n",
    "\n",
    "        print()\n",
    "        writer.flush()\n",
    "\n",
    "    time_elapsed = time.time() - since\n",
    "    print(\n",
    "        f'Training complete in {time_elapsed // 60:.0f}m {time_elapsed % 60:.0f}s')\n",
    "    print(f'Best val Acc: {best_acc:4f}')\n",
    "\n",
    "    # load best model weights\n",
    "    model.load_state_dict(best_model_wts)\n",
    "    return model\n",
    "\n",
    "def visualize_model(model, num_images=6):\n",
    "    \"\"\"A function to visualize some random images classification result.\n",
    "    Uses validation data.\n",
    "\n",
    "    Args:\n",
    "        model: the learned model\n",
    "        num_images (int, optional): number of random images to visualize.\n",
    "                                    Defaults to 6.\n",
    "    \"\"\"\n",
    "    was_training = model.training\n",
    "    model.eval()\n",
    "    images_so_far = 0\n",
    "    fig = plt.figure()\n",
    "\n",
    "    with torch.no_grad():\n",
    "        for i, (inputs, labels) in enumerate(dataloaders['val']):\n",
    "            inputs = inputs.to(device)\n",
    "            labels = labels.to(device)\n",
    "\n",
    "            outputs = model(inputs)\n",
    "            _, preds = torch.max(outputs, 1)\n",
    "\n",
    "            for j in range(inputs.size()[0]):\n",
    "                images_so_far += 1\n",
    "                ax = plt.subplot(num_images//2, 2, images_so_far)\n",
    "                ax.axis('off')\n",
    "                ax.set_title(\n",
    "                    f'predicted: {target_enc.categories_[0][preds[j]]}')\n",
    "                imshow(inputs.cpu().data[j])\n",
    "\n",
    "                if images_so_far == num_images:\n",
    "                    model.train(mode=was_training)\n",
    "                    return\n",
    "        model.train(mode=was_training)"
   ]
  },
  {
   "cell_type": "code",
   "execution_count": 24,
   "metadata": {
    "execution": {
     "iopub.execute_input": "2022-06-13T19:51:59.493826Z",
     "iopub.status.busy": "2022-06-13T19:51:59.493145Z",
     "iopub.status.idle": "2022-06-13T19:52:01.196593Z",
     "shell.execute_reply": "2022-06-13T19:52:01.195976Z",
     "shell.execute_reply.started": "2022-06-13T19:51:59.493792Z"
    }
   },
   "outputs": [],
   "source": [
    "import os, datetime\n",
    "log_dir_path = os.path.join('/notebooks', 'runs')\n",
    "save_dir_path = os.path.join('/notebooks', 'models')\n",
    "try:\n",
    "    os.makedirs(log_dir_path)\n",
    "except:\n",
    "    pass\n",
    "try:\n",
    "    os.makedirs(save_dir_path)\n",
    "except:\n",
    "    pass\n",
    "# %load_ext tensorboard\n",
    "# %tensorboard --logdir {log_dir_path}\n"
   ]
  },
  {
   "cell_type": "code",
   "execution_count": null,
   "metadata": {
    "execution": {
     "iopub.execute_input": "2022-06-14T14:47:55.891688Z",
     "iopub.status.busy": "2022-06-14T14:47:55.891270Z",
     "iopub.status.idle": "2022-06-14T14:47:56.578573Z",
     "shell.execute_reply": "2022-06-14T14:47:56.577253Z",
     "shell.execute_reply.started": "2022-06-14T14:47:55.891649Z"
    }
   },
   "outputs": [],
   "source": [
    "# view the model structure (RESNET-50)\n",
    "model_ft = models.resnet50(pretrained=True)\n",
    "for child in model_ft.named_children():\n",
    "    print(child)"
   ]
  },
  {
   "cell_type": "code",
   "execution_count": 14,
   "metadata": {
    "execution": {
     "iopub.execute_input": "2022-06-14T17:51:14.773255Z",
     "iopub.status.busy": "2022-06-14T17:51:14.772997Z",
     "iopub.status.idle": "2022-06-14T17:51:14.779009Z",
     "shell.execute_reply": "2022-06-14T17:51:14.778230Z",
     "shell.execute_reply.started": "2022-06-14T17:51:14.773231Z"
    }
   },
   "outputs": [
    {
     "data": {
      "text/plain": [
       "3"
      ]
     },
     "execution_count": 14,
     "metadata": {},
     "output_type": "execute_result"
    }
   ],
   "source": [
    "# visialize the children of later 4 of RESNET-50\n",
    "children = list(model_ft.layer4.children())\n",
    "len(list(children))\n",
    "list(children.children())[-3:]\n"
   ]
  },
  {
   "cell_type": "code",
   "execution_count": 25,
   "metadata": {
    "colab": {
     "base_uri": "https://localhost:8080/",
     "height": 1000
    },
    "execution": {
     "iopub.execute_input": "2022-06-14T20:59:14.814788Z",
     "iopub.status.busy": "2022-06-14T20:59:14.814523Z",
     "iopub.status.idle": "2022-06-14T21:32:04.980009Z",
     "shell.execute_reply": "2022-06-14T21:32:04.979003Z",
     "shell.execute_reply.started": "2022-06-14T20:59:14.814763Z"
    },
    "executionInfo": {
     "elapsed": 3203092,
     "status": "ok",
     "timestamp": 1653424376991,
     "user": {
      "displayName": "Shahbaz Khader",
      "userId": "06215895297564570107"
     },
     "user_tz": -120
    },
    "id": "rHwgEIufSIzl",
    "outputId": "074538a6-8538-49bc-9324-ddddef2d7f94"
   },
   "outputs": [
    {
     "name": "stdout",
     "output_type": "stream",
     "text": [
      "Epoch 0/49\n",
      "----------\n",
      "train Loss: 2.1521 Acc: 0.2857\n",
      "val Loss: 1.7738 Acc: 0.4236\n",
      "/notebooks/models\n",
      "\n",
      "Epoch 1/49\n",
      "----------\n"
     ]
    },
    {
     "ename": "KeyboardInterrupt",
     "evalue": "",
     "output_type": "error",
     "traceback": [
      "\u001b[0;31m---------------------------------------------------------------------------\u001b[0m",
      "\u001b[0;31mKeyboardInterrupt\u001b[0m                         Traceback (most recent call last)",
      "\u001b[1;32m/home/shbz/Dropbox/Workspace/Aicore/VSworkspace/fb_marketplace_reco/prod_pred_cnn_colab.ipynb Cell 8'\u001b[0m in \u001b[0;36m<module>\u001b[0;34m\u001b[0m\n\u001b[1;32m     <a href='vscode-notebook-cell:/home/shbz/Dropbox/Workspace/Aicore/VSworkspace/fb_marketplace_reco/prod_pred_cnn_colab.ipynb#ch0000007?line=52'>53</a>\u001b[0m exp_lr_scheduler \u001b[39m=\u001b[39m lr_scheduler\u001b[39m.\u001b[39mStepLR(optimizer_ft, step_size\u001b[39m=\u001b[39m\u001b[39m3\u001b[39m, gamma\u001b[39m=\u001b[39m\u001b[39m0.1\u001b[39m)\n\u001b[1;32m     <a href='vscode-notebook-cell:/home/shbz/Dropbox/Workspace/Aicore/VSworkspace/fb_marketplace_reco/prod_pred_cnn_colab.ipynb#ch0000007?line=54'>55</a>\u001b[0m \u001b[39m# train the model\u001b[39;00m\n\u001b[0;32m---> <a href='vscode-notebook-cell:/home/shbz/Dropbox/Workspace/Aicore/VSworkspace/fb_marketplace_reco/prod_pred_cnn_colab.ipynb#ch0000007?line=55'>56</a>\u001b[0m model_ft \u001b[39m=\u001b[39m train_model(model_ft, criterion, optimizer_ft, exp_lr_scheduler, writer,\n\u001b[1;32m     <a href='vscode-notebook-cell:/home/shbz/Dropbox/Workspace/Aicore/VSworkspace/fb_marketplace_reco/prod_pred_cnn_colab.ipynb#ch0000007?line=56'>57</a>\u001b[0m                        num_epochs\u001b[39m=\u001b[39;49m\u001b[39m50\u001b[39;49m, save_path\u001b[39m=\u001b[39;49msave_dir_path)\n\u001b[1;32m     <a href='vscode-notebook-cell:/home/shbz/Dropbox/Workspace/Aicore/VSworkspace/fb_marketplace_reco/prod_pred_cnn_colab.ipynb#ch0000007?line=58'>59</a>\u001b[0m \u001b[39m# visualize the model\u001b[39;00m\n\u001b[1;32m     <a href='vscode-notebook-cell:/home/shbz/Dropbox/Workspace/Aicore/VSworkspace/fb_marketplace_reco/prod_pred_cnn_colab.ipynb#ch0000007?line=59'>60</a>\u001b[0m visualize_model(model_ft)\n",
      "\u001b[1;32m/home/shbz/Dropbox/Workspace/Aicore/VSworkspace/fb_marketplace_reco/prod_pred_cnn_colab.ipynb Cell 4'\u001b[0m in \u001b[0;36mtrain_model\u001b[0;34m(model, criterion, optimizer, scheduler, writer, num_epochs, save_path)\u001b[0m\n\u001b[1;32m     <a href='vscode-notebook-cell:/home/shbz/Dropbox/Workspace/Aicore/VSworkspace/fb_marketplace_reco/prod_pred_cnn_colab.ipynb#ch0000003?line=43'>44</a>\u001b[0m \u001b[39m# forward\u001b[39;00m\n\u001b[1;32m     <a href='vscode-notebook-cell:/home/shbz/Dropbox/Workspace/Aicore/VSworkspace/fb_marketplace_reco/prod_pred_cnn_colab.ipynb#ch0000003?line=44'>45</a>\u001b[0m \u001b[39m# track history if only in train\u001b[39;00m\n\u001b[1;32m     <a href='vscode-notebook-cell:/home/shbz/Dropbox/Workspace/Aicore/VSworkspace/fb_marketplace_reco/prod_pred_cnn_colab.ipynb#ch0000003?line=45'>46</a>\u001b[0m \u001b[39mwith\u001b[39;00m torch\u001b[39m.\u001b[39mset_grad_enabled(phase \u001b[39m==\u001b[39m \u001b[39m'\u001b[39m\u001b[39mtrain\u001b[39m\u001b[39m'\u001b[39m):\n\u001b[0;32m---> <a href='vscode-notebook-cell:/home/shbz/Dropbox/Workspace/Aicore/VSworkspace/fb_marketplace_reco/prod_pred_cnn_colab.ipynb#ch0000003?line=46'>47</a>\u001b[0m     outputs \u001b[39m=\u001b[39m model(inputs)\n\u001b[1;32m     <a href='vscode-notebook-cell:/home/shbz/Dropbox/Workspace/Aicore/VSworkspace/fb_marketplace_reco/prod_pred_cnn_colab.ipynb#ch0000003?line=47'>48</a>\u001b[0m     _, preds \u001b[39m=\u001b[39m torch\u001b[39m.\u001b[39mmax(outputs, \u001b[39m1\u001b[39m)\n\u001b[1;32m     <a href='vscode-notebook-cell:/home/shbz/Dropbox/Workspace/Aicore/VSworkspace/fb_marketplace_reco/prod_pred_cnn_colab.ipynb#ch0000003?line=48'>49</a>\u001b[0m     loss \u001b[39m=\u001b[39m criterion(outputs, labels)\n",
      "File \u001b[0;32m/opt/conda/lib/python3.8/site-packages/torch/nn/modules/module.py:1110\u001b[0m, in \u001b[0;36mModule._call_impl\u001b[0;34m(self, *input, **kwargs)\u001b[0m\n\u001b[1;32m   <a href='file:///opt/conda/lib/python3.8/site-packages/torch/nn/modules/module.py?line=1105'>1106</a>\u001b[0m \u001b[39m# If we don't have any hooks, we want to skip the rest of the logic in\u001b[39;00m\n\u001b[1;32m   <a href='file:///opt/conda/lib/python3.8/site-packages/torch/nn/modules/module.py?line=1106'>1107</a>\u001b[0m \u001b[39m# this function, and just call forward.\u001b[39;00m\n\u001b[1;32m   <a href='file:///opt/conda/lib/python3.8/site-packages/torch/nn/modules/module.py?line=1107'>1108</a>\u001b[0m \u001b[39mif\u001b[39;00m \u001b[39mnot\u001b[39;00m (\u001b[39mself\u001b[39m\u001b[39m.\u001b[39m_backward_hooks \u001b[39mor\u001b[39;00m \u001b[39mself\u001b[39m\u001b[39m.\u001b[39m_forward_hooks \u001b[39mor\u001b[39;00m \u001b[39mself\u001b[39m\u001b[39m.\u001b[39m_forward_pre_hooks \u001b[39mor\u001b[39;00m _global_backward_hooks\n\u001b[1;32m   <a href='file:///opt/conda/lib/python3.8/site-packages/torch/nn/modules/module.py?line=1108'>1109</a>\u001b[0m         \u001b[39mor\u001b[39;00m _global_forward_hooks \u001b[39mor\u001b[39;00m _global_forward_pre_hooks):\n\u001b[0;32m-> <a href='file:///opt/conda/lib/python3.8/site-packages/torch/nn/modules/module.py?line=1109'>1110</a>\u001b[0m     \u001b[39mreturn\u001b[39;00m forward_call(\u001b[39m*\u001b[39;49m\u001b[39minput\u001b[39;49m, \u001b[39m*\u001b[39;49m\u001b[39m*\u001b[39;49mkwargs)\n\u001b[1;32m   <a href='file:///opt/conda/lib/python3.8/site-packages/torch/nn/modules/module.py?line=1110'>1111</a>\u001b[0m \u001b[39m# Do not call functions when jit is used\u001b[39;00m\n\u001b[1;32m   <a href='file:///opt/conda/lib/python3.8/site-packages/torch/nn/modules/module.py?line=1111'>1112</a>\u001b[0m full_backward_hooks, non_full_backward_hooks \u001b[39m=\u001b[39m [], []\n",
      "File \u001b[0;32m/opt/conda/lib/python3.8/site-packages/torchvision/models/resnet.py:283\u001b[0m, in \u001b[0;36mResNet.forward\u001b[0;34m(self, x)\u001b[0m\n\u001b[1;32m    <a href='file:///opt/conda/lib/python3.8/site-packages/torchvision/models/resnet.py?line=281'>282</a>\u001b[0m \u001b[39mdef\u001b[39;00m \u001b[39mforward\u001b[39m(\u001b[39mself\u001b[39m, x: Tensor) \u001b[39m-\u001b[39m\u001b[39m>\u001b[39m Tensor:\n\u001b[0;32m--> <a href='file:///opt/conda/lib/python3.8/site-packages/torchvision/models/resnet.py?line=282'>283</a>\u001b[0m     \u001b[39mreturn\u001b[39;00m \u001b[39mself\u001b[39;49m\u001b[39m.\u001b[39;49m_forward_impl(x)\n",
      "File \u001b[0;32m/opt/conda/lib/python3.8/site-packages/torchvision/models/resnet.py:272\u001b[0m, in \u001b[0;36mResNet._forward_impl\u001b[0;34m(self, x)\u001b[0m\n\u001b[1;32m    <a href='file:///opt/conda/lib/python3.8/site-packages/torchvision/models/resnet.py?line=268'>269</a>\u001b[0m x \u001b[39m=\u001b[39m \u001b[39mself\u001b[39m\u001b[39m.\u001b[39mmaxpool(x)\n\u001b[1;32m    <a href='file:///opt/conda/lib/python3.8/site-packages/torchvision/models/resnet.py?line=270'>271</a>\u001b[0m x \u001b[39m=\u001b[39m \u001b[39mself\u001b[39m\u001b[39m.\u001b[39mlayer1(x)\n\u001b[0;32m--> <a href='file:///opt/conda/lib/python3.8/site-packages/torchvision/models/resnet.py?line=271'>272</a>\u001b[0m x \u001b[39m=\u001b[39m \u001b[39mself\u001b[39;49m\u001b[39m.\u001b[39;49mlayer2(x)\n\u001b[1;32m    <a href='file:///opt/conda/lib/python3.8/site-packages/torchvision/models/resnet.py?line=272'>273</a>\u001b[0m x \u001b[39m=\u001b[39m \u001b[39mself\u001b[39m\u001b[39m.\u001b[39mlayer3(x)\n\u001b[1;32m    <a href='file:///opt/conda/lib/python3.8/site-packages/torchvision/models/resnet.py?line=273'>274</a>\u001b[0m x \u001b[39m=\u001b[39m \u001b[39mself\u001b[39m\u001b[39m.\u001b[39mlayer4(x)\n",
      "File \u001b[0;32m/opt/conda/lib/python3.8/site-packages/torch/nn/modules/module.py:1110\u001b[0m, in \u001b[0;36mModule._call_impl\u001b[0;34m(self, *input, **kwargs)\u001b[0m\n\u001b[1;32m   <a href='file:///opt/conda/lib/python3.8/site-packages/torch/nn/modules/module.py?line=1105'>1106</a>\u001b[0m \u001b[39m# If we don't have any hooks, we want to skip the rest of the logic in\u001b[39;00m\n\u001b[1;32m   <a href='file:///opt/conda/lib/python3.8/site-packages/torch/nn/modules/module.py?line=1106'>1107</a>\u001b[0m \u001b[39m# this function, and just call forward.\u001b[39;00m\n\u001b[1;32m   <a href='file:///opt/conda/lib/python3.8/site-packages/torch/nn/modules/module.py?line=1107'>1108</a>\u001b[0m \u001b[39mif\u001b[39;00m \u001b[39mnot\u001b[39;00m (\u001b[39mself\u001b[39m\u001b[39m.\u001b[39m_backward_hooks \u001b[39mor\u001b[39;00m \u001b[39mself\u001b[39m\u001b[39m.\u001b[39m_forward_hooks \u001b[39mor\u001b[39;00m \u001b[39mself\u001b[39m\u001b[39m.\u001b[39m_forward_pre_hooks \u001b[39mor\u001b[39;00m _global_backward_hooks\n\u001b[1;32m   <a href='file:///opt/conda/lib/python3.8/site-packages/torch/nn/modules/module.py?line=1108'>1109</a>\u001b[0m         \u001b[39mor\u001b[39;00m _global_forward_hooks \u001b[39mor\u001b[39;00m _global_forward_pre_hooks):\n\u001b[0;32m-> <a href='file:///opt/conda/lib/python3.8/site-packages/torch/nn/modules/module.py?line=1109'>1110</a>\u001b[0m     \u001b[39mreturn\u001b[39;00m forward_call(\u001b[39m*\u001b[39;49m\u001b[39minput\u001b[39;49m, \u001b[39m*\u001b[39;49m\u001b[39m*\u001b[39;49mkwargs)\n\u001b[1;32m   <a href='file:///opt/conda/lib/python3.8/site-packages/torch/nn/modules/module.py?line=1110'>1111</a>\u001b[0m \u001b[39m# Do not call functions when jit is used\u001b[39;00m\n\u001b[1;32m   <a href='file:///opt/conda/lib/python3.8/site-packages/torch/nn/modules/module.py?line=1111'>1112</a>\u001b[0m full_backward_hooks, non_full_backward_hooks \u001b[39m=\u001b[39m [], []\n",
      "File \u001b[0;32m/opt/conda/lib/python3.8/site-packages/torch/nn/modules/container.py:141\u001b[0m, in \u001b[0;36mSequential.forward\u001b[0;34m(self, input)\u001b[0m\n\u001b[1;32m    <a href='file:///opt/conda/lib/python3.8/site-packages/torch/nn/modules/container.py?line=138'>139</a>\u001b[0m \u001b[39mdef\u001b[39;00m \u001b[39mforward\u001b[39m(\u001b[39mself\u001b[39m, \u001b[39minput\u001b[39m):\n\u001b[1;32m    <a href='file:///opt/conda/lib/python3.8/site-packages/torch/nn/modules/container.py?line=139'>140</a>\u001b[0m     \u001b[39mfor\u001b[39;00m module \u001b[39min\u001b[39;00m \u001b[39mself\u001b[39m:\n\u001b[0;32m--> <a href='file:///opt/conda/lib/python3.8/site-packages/torch/nn/modules/container.py?line=140'>141</a>\u001b[0m         \u001b[39minput\u001b[39m \u001b[39m=\u001b[39m module(\u001b[39minput\u001b[39;49m)\n\u001b[1;32m    <a href='file:///opt/conda/lib/python3.8/site-packages/torch/nn/modules/container.py?line=141'>142</a>\u001b[0m     \u001b[39mreturn\u001b[39;00m \u001b[39minput\u001b[39m\n",
      "File \u001b[0;32m/opt/conda/lib/python3.8/site-packages/torch/nn/modules/module.py:1110\u001b[0m, in \u001b[0;36mModule._call_impl\u001b[0;34m(self, *input, **kwargs)\u001b[0m\n\u001b[1;32m   <a href='file:///opt/conda/lib/python3.8/site-packages/torch/nn/modules/module.py?line=1105'>1106</a>\u001b[0m \u001b[39m# If we don't have any hooks, we want to skip the rest of the logic in\u001b[39;00m\n\u001b[1;32m   <a href='file:///opt/conda/lib/python3.8/site-packages/torch/nn/modules/module.py?line=1106'>1107</a>\u001b[0m \u001b[39m# this function, and just call forward.\u001b[39;00m\n\u001b[1;32m   <a href='file:///opt/conda/lib/python3.8/site-packages/torch/nn/modules/module.py?line=1107'>1108</a>\u001b[0m \u001b[39mif\u001b[39;00m \u001b[39mnot\u001b[39;00m (\u001b[39mself\u001b[39m\u001b[39m.\u001b[39m_backward_hooks \u001b[39mor\u001b[39;00m \u001b[39mself\u001b[39m\u001b[39m.\u001b[39m_forward_hooks \u001b[39mor\u001b[39;00m \u001b[39mself\u001b[39m\u001b[39m.\u001b[39m_forward_pre_hooks \u001b[39mor\u001b[39;00m _global_backward_hooks\n\u001b[1;32m   <a href='file:///opt/conda/lib/python3.8/site-packages/torch/nn/modules/module.py?line=1108'>1109</a>\u001b[0m         \u001b[39mor\u001b[39;00m _global_forward_hooks \u001b[39mor\u001b[39;00m _global_forward_pre_hooks):\n\u001b[0;32m-> <a href='file:///opt/conda/lib/python3.8/site-packages/torch/nn/modules/module.py?line=1109'>1110</a>\u001b[0m     \u001b[39mreturn\u001b[39;00m forward_call(\u001b[39m*\u001b[39;49m\u001b[39minput\u001b[39;49m, \u001b[39m*\u001b[39;49m\u001b[39m*\u001b[39;49mkwargs)\n\u001b[1;32m   <a href='file:///opt/conda/lib/python3.8/site-packages/torch/nn/modules/module.py?line=1110'>1111</a>\u001b[0m \u001b[39m# Do not call functions when jit is used\u001b[39;00m\n\u001b[1;32m   <a href='file:///opt/conda/lib/python3.8/site-packages/torch/nn/modules/module.py?line=1111'>1112</a>\u001b[0m full_backward_hooks, non_full_backward_hooks \u001b[39m=\u001b[39m [], []\n",
      "File \u001b[0;32m/opt/conda/lib/python3.8/site-packages/torchvision/models/resnet.py:150\u001b[0m, in \u001b[0;36mBottleneck.forward\u001b[0;34m(self, x)\u001b[0m\n\u001b[1;32m    <a href='file:///opt/conda/lib/python3.8/site-packages/torchvision/models/resnet.py?line=147'>148</a>\u001b[0m out \u001b[39m=\u001b[39m \u001b[39mself\u001b[39m\u001b[39m.\u001b[39mconv2(out)\n\u001b[1;32m    <a href='file:///opt/conda/lib/python3.8/site-packages/torchvision/models/resnet.py?line=148'>149</a>\u001b[0m out \u001b[39m=\u001b[39m \u001b[39mself\u001b[39m\u001b[39m.\u001b[39mbn2(out)\n\u001b[0;32m--> <a href='file:///opt/conda/lib/python3.8/site-packages/torchvision/models/resnet.py?line=149'>150</a>\u001b[0m out \u001b[39m=\u001b[39m \u001b[39mself\u001b[39;49m\u001b[39m.\u001b[39;49mrelu(out)\n\u001b[1;32m    <a href='file:///opt/conda/lib/python3.8/site-packages/torchvision/models/resnet.py?line=151'>152</a>\u001b[0m out \u001b[39m=\u001b[39m \u001b[39mself\u001b[39m\u001b[39m.\u001b[39mconv3(out)\n\u001b[1;32m    <a href='file:///opt/conda/lib/python3.8/site-packages/torchvision/models/resnet.py?line=152'>153</a>\u001b[0m out \u001b[39m=\u001b[39m \u001b[39mself\u001b[39m\u001b[39m.\u001b[39mbn3(out)\n",
      "File \u001b[0;32m/opt/conda/lib/python3.8/site-packages/torch/nn/modules/module.py:1110\u001b[0m, in \u001b[0;36mModule._call_impl\u001b[0;34m(self, *input, **kwargs)\u001b[0m\n\u001b[1;32m   <a href='file:///opt/conda/lib/python3.8/site-packages/torch/nn/modules/module.py?line=1105'>1106</a>\u001b[0m \u001b[39m# If we don't have any hooks, we want to skip the rest of the logic in\u001b[39;00m\n\u001b[1;32m   <a href='file:///opt/conda/lib/python3.8/site-packages/torch/nn/modules/module.py?line=1106'>1107</a>\u001b[0m \u001b[39m# this function, and just call forward.\u001b[39;00m\n\u001b[1;32m   <a href='file:///opt/conda/lib/python3.8/site-packages/torch/nn/modules/module.py?line=1107'>1108</a>\u001b[0m \u001b[39mif\u001b[39;00m \u001b[39mnot\u001b[39;00m (\u001b[39mself\u001b[39m\u001b[39m.\u001b[39m_backward_hooks \u001b[39mor\u001b[39;00m \u001b[39mself\u001b[39m\u001b[39m.\u001b[39m_forward_hooks \u001b[39mor\u001b[39;00m \u001b[39mself\u001b[39m\u001b[39m.\u001b[39m_forward_pre_hooks \u001b[39mor\u001b[39;00m _global_backward_hooks\n\u001b[1;32m   <a href='file:///opt/conda/lib/python3.8/site-packages/torch/nn/modules/module.py?line=1108'>1109</a>\u001b[0m         \u001b[39mor\u001b[39;00m _global_forward_hooks \u001b[39mor\u001b[39;00m _global_forward_pre_hooks):\n\u001b[0;32m-> <a href='file:///opt/conda/lib/python3.8/site-packages/torch/nn/modules/module.py?line=1109'>1110</a>\u001b[0m     \u001b[39mreturn\u001b[39;00m forward_call(\u001b[39m*\u001b[39;49m\u001b[39minput\u001b[39;49m, \u001b[39m*\u001b[39;49m\u001b[39m*\u001b[39;49mkwargs)\n\u001b[1;32m   <a href='file:///opt/conda/lib/python3.8/site-packages/torch/nn/modules/module.py?line=1110'>1111</a>\u001b[0m \u001b[39m# Do not call functions when jit is used\u001b[39;00m\n\u001b[1;32m   <a href='file:///opt/conda/lib/python3.8/site-packages/torch/nn/modules/module.py?line=1111'>1112</a>\u001b[0m full_backward_hooks, non_full_backward_hooks \u001b[39m=\u001b[39m [], []\n",
      "File \u001b[0;32m/opt/conda/lib/python3.8/site-packages/torch/nn/modules/activation.py:98\u001b[0m, in \u001b[0;36mReLU.forward\u001b[0;34m(self, input)\u001b[0m\n\u001b[1;32m     <a href='file:///opt/conda/lib/python3.8/site-packages/torch/nn/modules/activation.py?line=96'>97</a>\u001b[0m \u001b[39mdef\u001b[39;00m \u001b[39mforward\u001b[39m(\u001b[39mself\u001b[39m, \u001b[39minput\u001b[39m: Tensor) \u001b[39m-\u001b[39m\u001b[39m>\u001b[39m Tensor:\n\u001b[0;32m---> <a href='file:///opt/conda/lib/python3.8/site-packages/torch/nn/modules/activation.py?line=97'>98</a>\u001b[0m     \u001b[39mreturn\u001b[39;00m F\u001b[39m.\u001b[39;49mrelu(\u001b[39minput\u001b[39;49m, inplace\u001b[39m=\u001b[39;49m\u001b[39mself\u001b[39;49m\u001b[39m.\u001b[39;49minplace)\n",
      "File \u001b[0;32m/opt/conda/lib/python3.8/site-packages/torch/nn/functional.py:1408\u001b[0m, in \u001b[0;36mrelu\u001b[0;34m(input, inplace)\u001b[0m\n\u001b[1;32m   <a href='file:///opt/conda/lib/python3.8/site-packages/torch/nn/functional.py?line=1405'>1406</a>\u001b[0m     \u001b[39mreturn\u001b[39;00m handle_torch_function(relu, (\u001b[39minput\u001b[39m,), \u001b[39minput\u001b[39m, inplace\u001b[39m=\u001b[39minplace)\n\u001b[1;32m   <a href='file:///opt/conda/lib/python3.8/site-packages/torch/nn/functional.py?line=1406'>1407</a>\u001b[0m \u001b[39mif\u001b[39;00m inplace:\n\u001b[0;32m-> <a href='file:///opt/conda/lib/python3.8/site-packages/torch/nn/functional.py?line=1407'>1408</a>\u001b[0m     result \u001b[39m=\u001b[39m torch\u001b[39m.\u001b[39;49mrelu_(\u001b[39minput\u001b[39;49m)\n\u001b[1;32m   <a href='file:///opt/conda/lib/python3.8/site-packages/torch/nn/functional.py?line=1408'>1409</a>\u001b[0m \u001b[39melse\u001b[39;00m:\n\u001b[1;32m   <a href='file:///opt/conda/lib/python3.8/site-packages/torch/nn/functional.py?line=1409'>1410</a>\u001b[0m     result \u001b[39m=\u001b[39m torch\u001b[39m.\u001b[39mrelu(\u001b[39minput\u001b[39m)\n",
      "\u001b[0;31mKeyboardInterrupt\u001b[0m: "
     ]
    }
   ],
   "source": [
    "import datetime\n",
    "# log dir for storing tensorboard files\n",
    "log_dir = os.path.join(log_dir_path, datetime.datetime.now().strftime('%Y-%m-%d_%H-%M-%S'))\n",
    "writer = SummaryWriter(log_dir=log_dir)\n",
    "\n",
    "# load the RESNET-50 model\n",
    "model_ft = models.resnet50(pretrained=True)\n",
    "\n",
    "# freeze all params\n",
    "for param in model_ft.parameters():\n",
    "    param.requires_grad = False\n",
    "\n",
    "# unfreeze layer 4 params\n",
    "#for param in model_ft.layer4.parameters():\n",
    "#    param.requires_grad = True\n",
    "\n",
    "for param in model_ft.avgpool.parameters():\n",
    "    param.requires_grad = True\n",
    "\n",
    "# get the last bottleneck of l4 (RESNET-50)     \n",
    "l4_last_bnk = list(model_ft.layer4.children())[-1:]\n",
    "for child in l4_last_bnk:\n",
    "    # unfreeze the last 3 layer blocks\n",
    "    for c in list(child.children())[-3:]:\n",
    "        for param in c.parameters():\n",
    "            param.requires_grad = True\n",
    "\n",
    "# some experiments\n",
    "# 2022-06-14_09-32-58 only one FC layer output, no relu, dropout\n",
    "# 2022-06-14_10-12-36 256, relu, dropout 0.3, output layers\n",
    "# 2022-06-14_10-58-38 256, relu, output layers\n",
    "# 2022-06-14_20-59-14 l4 last conv block, 256, relu, output layers, step_size=3\n",
    "\n",
    "# build a FC layer for classification. The CNN is for feature extraction\n",
    "num_ftrs = model_ft.fc.in_features\n",
    "model_ft.fc = nn.Sequential(\n",
    "              nn.Linear(num_ftrs, 256),\n",
    "              nn.ReLU(),\n",
    "              nn.Linear(256, len(target_enc.categories_[0])),\n",
    "              )\n",
    "# make sure the FC layer is learnable              \n",
    "for param in model_ft.fc.parameters():\n",
    "    param.requires_grad = True\n",
    "\n",
    "model_ft = model_ft.to(device)\n",
    "\n",
    "criterion = nn.CrossEntropyLoss()\n",
    "\n",
    "# Observe that all parameters are being optimized\n",
    "optimizer_ft = optim.SGD(model_ft.parameters(), lr=0.001, momentum=0.9)\n",
    "\n",
    "# Decay LR by a factor of 0.1 every 3 epochs\n",
    "exp_lr_scheduler = lr_scheduler.StepLR(optimizer_ft, step_size=3, gamma=0.1)\n",
    "\n",
    "# train the model\n",
    "model_ft = train_model(model_ft, criterion, optimizer_ft, exp_lr_scheduler, writer,\n",
    "                       num_epochs=50, save_path=save_dir_path)\n",
    "\n",
    "# visualize the model\n",
    "visualize_model(model_ft)"
   ]
  },
  {
   "cell_type": "code",
   "execution_count": null,
   "metadata": {},
   "outputs": [],
   "source": [
    "# visualize the trained model using val dataset\n",
    "model_ft = models.resnet50(pretrained=True)\n",
    "num_ftrs = model_ft.fc.in_features\n",
    "model_ft.fc = nn.Linear(num_ftrs, len(target_enc.categories_[0]))\n",
    "model_ft.load_state_dict(torch.load(save_dir_path + 'best_image_cnn_model.pt'))\n",
    "model_ft = model_ft.to(device)\n",
    "model_ft.eval()\n",
    "\n",
    "num_batches = 1\n",
    "i = 0\n",
    "for inputs, labels in dataloaders['val']:\n",
    "    inputs = inputs.to(device)\n",
    "    labels = labels.type(torch.LongTensor)\n",
    "    labels = labels.to(device)\n",
    "    outputs = model_ft(inputs)\n",
    "    _, preds = torch.max(outputs, 1)\n",
    "\n",
    "    fig = plt.figure()\n",
    "    for j in range(inputs.size()[0]):\n",
    "        ax = plt.subplot(2, 2, j)\n",
    "        ax.axis('off')\n",
    "        ax.set_title(\n",
    "            f'predicted: {target_enc.categories_[0][preds[j]]}\\n label: {target_enc.categories_[0][labels[j]]}')\n",
    "        imshow(inputs.cpu().data[j])\n",
    "    i += 1\n",
    "    if num_batches == i:\n",
    "        break"
   ]
  }
 ],
 "metadata": {
  "accelerator": "GPU",
  "colab": {
   "name": "Copy of prod_pred_cnn_1.ipynb",
   "provenance": [
    {
     "file_id": "1WoTcWhmeKM8d7B1-Sz8cW--eg0M1RZFv",
     "timestamp": 1653424960615
    }
   ]
  },
  "interpreter": {
   "hash": "d1a014fee8dab19e381f5c0a59544b00a460ed8d6f43556103265470604014b1"
  },
  "kernelspec": {
   "display_name": "Python 3 (ipykernel)",
   "language": "python",
   "name": "python3"
  }
 },
 "nbformat": 4,
 "nbformat_minor": 4
}
